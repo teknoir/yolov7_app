{
 "cells": [
  {
   "cell_type": "markdown",
   "metadata": {
    "pycharm": {
     "name": "#%% md\n"
    }
   },
   "source": [
    "# Build YOLOv7 App Pipeline\n",
    "A script that build a YOLOv7 app to run inference at the edge.\n",
    "\n",
    "To the left in the file browser pane, you can find the /cloudstorage folder. Under /cloudstorage/models we store different versions of the machine learning models in version-named folders.\n",
    "\n",
    "When a new version of the sustayn model is created, put it in `/cloudstorage/models/<version>/<all the files>` and update the `model_name` argument below in the Define the pipeline section.\n",
    "\n",
    "When that is done, run this notebook.\n",
    "    \n",
    "## Install prerequisites"
   ]
  },
  {
   "cell_type": "code",
   "execution_count": 1,
   "metadata": {
    "pycharm": {
     "name": "#%%\n"
    }
   },
   "outputs": [
    {
     "name": "stdout",
     "output_type": "stream",
     "text": [
      "Requirement already satisfied: kfp==1.8.22 in /home/jovyan/.local/lib/python3.10/site-packages (1.8.22)\n",
      "Requirement already satisfied: absl-py<2,>=0.9 in /home/jovyan/.local/lib/python3.10/site-packages (from kfp==1.8.22) (0.11.0)\n",
      "Requirement already satisfied: google-api-core!=2.0.*,!=2.1.*,!=2.2.*,!=2.3.0,<3.0.0dev,>=1.31.5 in /opt/conda/lib/python3.10/site-packages (from kfp==1.8.22) (2.8.2)\n",
      "Requirement already satisfied: fire<1,>=0.3.1 in /opt/conda/lib/python3.10/site-packages (from kfp==1.8.22) (0.4.0)\n",
      "Requirement already satisfied: cloudpickle<3,>=2.0.0 in /home/jovyan/.local/lib/python3.10/site-packages (from kfp==1.8.22) (2.2.1)\n",
      "Requirement already satisfied: docstring-parser<1,>=0.7.3 in /opt/conda/lib/python3.10/site-packages (from kfp==1.8.22) (0.14.1)\n",
      "Requirement already satisfied: tabulate<1,>=0.8.6 in /opt/conda/lib/python3.10/site-packages (from kfp==1.8.22) (0.8.10)\n",
      "Requirement already satisfied: typer<1.0,>=0.3.2 in /opt/conda/lib/python3.10/site-packages (from kfp==1.8.22) (0.4.2)\n",
      "Requirement already satisfied: Deprecated<2,>=1.2.7 in /opt/conda/lib/python3.10/site-packages (from kfp==1.8.22) (1.2.13)\n",
      "Requirement already satisfied: uritemplate<4,>=3.0.1 in /opt/conda/lib/python3.10/site-packages (from kfp==1.8.22) (3.0.1)\n",
      "Requirement already satisfied: google-auth<3,>=1.6.1 in /opt/conda/lib/python3.10/site-packages (from kfp==1.8.22) (1.35.0)\n",
      "Requirement already satisfied: pydantic<2,>=1.8.2 in /opt/conda/lib/python3.10/site-packages (from kfp==1.8.22) (1.9.1)\n",
      "Requirement already satisfied: PyYAML<7,>=5.3 in /opt/conda/lib/python3.10/site-packages (from kfp==1.8.22) (5.4.1)\n",
      "Requirement already satisfied: google-api-python-client<2,>=1.7.8 in /opt/conda/lib/python3.10/site-packages (from kfp==1.8.22) (1.12.11)\n",
      "Requirement already satisfied: kfp-server-api<2.0.0,>=1.1.2 in /home/jovyan/.local/lib/python3.10/site-packages (from kfp==1.8.22) (1.8.5)\n",
      "Requirement already satisfied: google-cloud-storage<3,>=1.20.0 in /home/jovyan/.local/lib/python3.10/site-packages (from kfp==1.8.22) (2.10.0)\n",
      "Requirement already satisfied: requests-toolbelt<1,>=0.8.0 in /opt/conda/lib/python3.10/site-packages (from kfp==1.8.22) (0.9.1)\n",
      "Requirement already satisfied: click<9,>=7.1.2 in /home/jovyan/.local/lib/python3.10/site-packages (from kfp==1.8.22) (8.1.7)\n",
      "Requirement already satisfied: kfp-pipeline-spec<0.2.0,>=0.1.16 in /home/jovyan/.local/lib/python3.10/site-packages (from kfp==1.8.22) (0.1.16)\n",
      "Requirement already satisfied: strip-hints<1,>=0.1.8 in /opt/conda/lib/python3.10/site-packages (from kfp==1.8.22) (0.1.10)\n",
      "Requirement already satisfied: urllib3<2 in /opt/conda/lib/python3.10/site-packages (from kfp==1.8.22) (1.26.9)\n",
      "Requirement already satisfied: kubernetes<26,>=8.0.0 in /home/jovyan/.local/lib/python3.10/site-packages (from kfp==1.8.22) (12.0.1)\n",
      "Requirement already satisfied: protobuf<4,>=3.13.0 in /opt/conda/lib/python3.10/site-packages (from kfp==1.8.22) (3.19.4)\n",
      "Requirement already satisfied: jsonschema<5,>=3.0.1 in /opt/conda/lib/python3.10/site-packages (from kfp==1.8.22) (3.2.0)\n",
      "Requirement already satisfied: six in /opt/conda/lib/python3.10/site-packages (from absl-py<2,>=0.9->kfp==1.8.22) (1.16.0)\n",
      "Requirement already satisfied: wrapt<2,>=1.10 in /opt/conda/lib/python3.10/site-packages (from Deprecated<2,>=1.2.7->kfp==1.8.22) (1.14.1)\n",
      "Requirement already satisfied: termcolor in /opt/conda/lib/python3.10/site-packages (from fire<1,>=0.3.1->kfp==1.8.22) (1.1.0)\n",
      "Requirement already satisfied: requests<3.0.0dev,>=2.18.0 in /opt/conda/lib/python3.10/site-packages (from google-api-core!=2.0.*,!=2.1.*,!=2.2.*,!=2.3.0,<3.0.0dev,>=1.31.5->kfp==1.8.22) (2.28.1)\n",
      "Requirement already satisfied: googleapis-common-protos<2.0dev,>=1.56.2 in /opt/conda/lib/python3.10/site-packages (from google-api-core!=2.0.*,!=2.1.*,!=2.2.*,!=2.3.0,<3.0.0dev,>=1.31.5->kfp==1.8.22) (1.56.3)\n",
      "Requirement already satisfied: google-auth-httplib2>=0.0.3 in /opt/conda/lib/python3.10/site-packages (from google-api-python-client<2,>=1.7.8->kfp==1.8.22) (0.1.0)\n",
      "Requirement already satisfied: httplib2<1dev,>=0.15.0 in /opt/conda/lib/python3.10/site-packages (from google-api-python-client<2,>=1.7.8->kfp==1.8.22) (0.20.4)\n",
      "Requirement already satisfied: cachetools<5.0,>=2.0.0 in /opt/conda/lib/python3.10/site-packages (from google-auth<3,>=1.6.1->kfp==1.8.22) (4.2.4)\n",
      "Requirement already satisfied: pyasn1-modules>=0.2.1 in /opt/conda/lib/python3.10/site-packages (from google-auth<3,>=1.6.1->kfp==1.8.22) (0.2.7)\n",
      "Requirement already satisfied: setuptools>=40.3.0 in /opt/conda/lib/python3.10/site-packages (from google-auth<3,>=1.6.1->kfp==1.8.22) (63.1.0)\n",
      "Requirement already satisfied: rsa<5,>=3.1.4 in /opt/conda/lib/python3.10/site-packages (from google-auth<3,>=1.6.1->kfp==1.8.22) (4.8)\n",
      "Requirement already satisfied: google-resumable-media>=2.3.2 in /opt/conda/lib/python3.10/site-packages (from google-cloud-storage<3,>=1.20.0->kfp==1.8.22) (2.3.3)\n",
      "Requirement already satisfied: google-cloud-core<3.0dev,>=2.3.0 in /opt/conda/lib/python3.10/site-packages (from google-cloud-storage<3,>=1.20.0->kfp==1.8.22) (2.3.1)\n",
      "Requirement already satisfied: attrs>=17.4.0 in /opt/conda/lib/python3.10/site-packages (from jsonschema<5,>=3.0.1->kfp==1.8.22) (21.4.0)\n",
      "Requirement already satisfied: pyrsistent>=0.14.0 in /opt/conda/lib/python3.10/site-packages (from jsonschema<5,>=3.0.1->kfp==1.8.22) (0.18.1)\n",
      "Requirement already satisfied: python-dateutil in /opt/conda/lib/python3.10/site-packages (from kfp-server-api<2.0.0,>=1.1.2->kfp==1.8.22) (2.8.2)\n",
      "Requirement already satisfied: certifi in /opt/conda/lib/python3.10/site-packages (from kfp-server-api<2.0.0,>=1.1.2->kfp==1.8.22) (2022.6.15)\n",
      "Requirement already satisfied: requests-oauthlib in /opt/conda/lib/python3.10/site-packages (from kubernetes<26,>=8.0.0->kfp==1.8.22) (1.3.1)\n",
      "Requirement already satisfied: websocket-client!=0.40.0,!=0.41.*,!=0.42.*,>=0.32.0 in /opt/conda/lib/python3.10/site-packages (from kubernetes<26,>=8.0.0->kfp==1.8.22) (1.3.3)\n",
      "Requirement already satisfied: typing-extensions>=3.7.4.3 in /opt/conda/lib/python3.10/site-packages (from pydantic<2,>=1.8.2->kfp==1.8.22) (4.3.0)\n",
      "Requirement already satisfied: wheel in /opt/conda/lib/python3.10/site-packages (from strip-hints<1,>=0.1.8->kfp==1.8.22) (0.37.1)\n",
      "Requirement already satisfied: google-crc32c<2.0dev,>=1.0 in /opt/conda/lib/python3.10/site-packages (from google-resumable-media>=2.3.2->google-cloud-storage<3,>=1.20.0->kfp==1.8.22) (1.3.0)\n",
      "Requirement already satisfied: pyparsing!=3.0.0,!=3.0.1,!=3.0.2,!=3.0.3,<4,>=2.4.2 in /opt/conda/lib/python3.10/site-packages (from httplib2<1dev,>=0.15.0->google-api-python-client<2,>=1.7.8->kfp==1.8.22) (3.0.9)\n",
      "Requirement already satisfied: pyasn1<0.5.0,>=0.4.6 in /opt/conda/lib/python3.10/site-packages (from pyasn1-modules>=0.2.1->google-auth<3,>=1.6.1->kfp==1.8.22) (0.4.8)\n",
      "Requirement already satisfied: charset-normalizer<3,>=2 in /opt/conda/lib/python3.10/site-packages (from requests<3.0.0dev,>=2.18.0->google-api-core!=2.0.*,!=2.1.*,!=2.2.*,!=2.3.0,<3.0.0dev,>=1.31.5->kfp==1.8.22) (2.1.0)\n",
      "Requirement already satisfied: idna<4,>=2.5 in /opt/conda/lib/python3.10/site-packages (from requests<3.0.0dev,>=2.18.0->google-api-core!=2.0.*,!=2.1.*,!=2.2.*,!=2.3.0,<3.0.0dev,>=1.31.5->kfp==1.8.22) (3.3)\n",
      "Requirement already satisfied: oauthlib>=3.0.0 in /opt/conda/lib/python3.10/site-packages (from requests-oauthlib->kubernetes<26,>=8.0.0->kfp==1.8.22) (3.2.0)\n"
     ]
    }
   ],
   "source": [
    "# Install the SDK\n",
    "# !pip3 uninstall kfp\n",
    "!pip3 install kfp==1.8.22 --user\n",
    "\n",
    "# kfp-k8s for kfp v2\n",
    "# !pip3 install pip install kfp-kubernetes --user"
   ]
  },
  {
   "cell_type": "raw",
   "metadata": {
    "pycharm": {
     "name": "#%% md\n"
    }
   },
   "source": [
    "## Define components"
   ]
  },
  {
   "cell_type": "code",
   "execution_count": 1,
   "metadata": {
    "pycharm": {
     "name": "#%%\n"
    }
   },
   "outputs": [
    {
     "name": "stdout",
     "output_type": "stream",
     "text": [
      "1.8.22\n"
     ]
    }
   ],
   "source": [
    "import kfp\n",
    "from kfp import compiler, dsl, components\n",
    "from kfp.components import load_component_from_text, InputPath, InputTextFile, OutputPath, OutputTextFile\n",
    "from kfp.components import func_to_container_op\n",
    "\n",
    "from typing import NamedTuple\n",
    "\n",
    "print(kfp.__version__)\n",
    "\n",
    "@func_to_container_op\n",
    "def get_metadata_args_op(\n",
    "    image_name: str,\n",
    "    model_name: str,\n",
    "    domain: str,\n",
    "    namespace: str) -> NamedTuple(\n",
    "  'PipelineArgs',\n",
    "  [\n",
    "    ('project', str),\n",
    "    ('namespace', str),\n",
    "    ('registry', str),\n",
    "    ('bucket_name', str),\n",
    "    ('image_name', str)\n",
    "  ]):\n",
    "    print(\"Preparing metadata for build {}\".format(model_name))\n",
    "    import urllib.request\n",
    "    from collections import namedtuple\n",
    "    \n",
    "    def getMetadataValue(url):\n",
    "        req = urllib.request.Request(url)\n",
    "        req.add_header(\"Metadata-Flavor\", \"Google\")\n",
    "        return urllib.request.urlopen(req).read().decode()\n",
    "    \n",
    "    url = \"http://metadata.google.internal/computeMetadata/v1/project/project-id\"\n",
    "    project_id = getMetadataValue(url)\n",
    "    print(\"Project ID {}\".format(project_id))\n",
    "\n",
    "    output = namedtuple('PipelineArgs', ['project', 'namespace', 'registry', 'bucket_name', 'image_name'])\n",
    "    return output(\n",
    "        project_id, \n",
    "        namespace, \n",
    "        f'us-central1-docker.pkg.dev/{project_id}/{namespace}', \n",
    "        f'{namespace}.{domain}',\n",
    "        f'us-central1-docker.pkg.dev/{project_id}/{namespace}/{image_name}'\n",
    "    )\n",
    "\n",
    "\n",
    "def prepare_model_files(\n",
    "    model_name: str,\n",
    "    bucket_name: str,\n",
    "    weightsfile_path: OutputPath(str),\n",
    "    namesfile_path: OutputPath(str)):\n",
    "    '''Prepares Model files'''\n",
    "    print(\"Preparing model files for {}\".format(model_name))\n",
    "    \n",
    "    import os\n",
    "    from google.cloud import storage\n",
    "    from collections import namedtuple\n",
    "\n",
    "    weights_file = 'best_weights.pt'\n",
    "    names_file = 'object.names'\n",
    "\n",
    "    storage_client = storage.Client()\n",
    "    bucket = storage_client.get_bucket(bucket_name)\n",
    "    \n",
    "    def download_blob(source_blob_name, destination_file_name):\n",
    "        \"\"\"Downloads a blob from the bucket.\"\"\"\n",
    "        print(\"Downloading object {} to {}.\".format(source_blob_name, destination_file_name))\n",
    "        blob = bucket.blob(source_blob_name)\n",
    "        blob.download_to_filename(destination_file_name)\n",
    "\n",
    "    weights_blob = f'models/{model_name}/{weights_file}'\n",
    "    download_blob(weights_blob, weightsfile_path)\n",
    "    \n",
    "    names_blob =f'models/{model_name}/{names_file}'\n",
    "    download_blob(names_blob, namesfile_path)\n",
    "    \n",
    "\n",
    "prepare_model_files_op = components.create_component_from_func(\n",
    "    prepare_model_files,\n",
    "    packages_to_install=['google-cloud-storage'],\n",
    "    output_component_file='yolov7_prepare_model_files.yaml')\n",
    "\n",
    "\n",
    "def prepare_dockerfile(\n",
    "    model_name: str,\n",
    "    img_size: int,\n",
    "    dockerfile_path: OutputPath(str)):\n",
    "    '''Prepares Dockerfiles and Manifests'''\n",
    "    print(\"Preparing docker file for {}\".format(model_name))\n",
    "    \n",
    "    import os\n",
    "    from collections import namedtuple\n",
    "    import requests\n",
    "    \n",
    "    def wget(url, file):\n",
    "        r = requests.get(url, allow_redirects=True)\n",
    "        print(f'Downloading {url} to {file}')\n",
    "        open(file, 'wb').write(r.content)\n",
    "    \n",
    "    def write_file(file_path, content):\n",
    "        with open(file_path, 'w') as f:\n",
    "            print(content)\n",
    "            f.write(content)\n",
    "    \n",
    "    # Remember that we still cannot do multi-arch builds in kubeflow\n",
    "    # All commands in the Dockerfile must be multi-arch safe\n",
    "    docker_file_template = f\"\"\"\n",
    "ARG BASE_IMAGE\n",
    "ARG BASE_IMAGE_TAG\n",
    "FROM $BASE_IMAGE:$BASE_IMAGE_TAG\n",
    "\n",
    "ENV MODEL_NAME={model_name}\n",
    "ENV TRAINING_DATASET={model_name}\n",
    "ENV IMG_SIZE={img_size}\n",
    "\n",
    "ADD best_weights.pt /usr/src/app/model.pt\n",
    "ADD object.names /usr/src/app/object.names\n",
    "\"\"\"\n",
    "    write_file(dockerfile_path, docker_file_template)\n",
    "    \n",
    "\n",
    "prepare_dockerfile_op = components.create_component_from_func(\n",
    "    prepare_dockerfile,\n",
    "    packages_to_install=['chevron', 'requests'],\n",
    "    output_component_file='ppe_prepare_dockerfile.yaml')\n"
   ]
  },
  {
   "cell_type": "markdown",
   "metadata": {
    "pycharm": {
     "name": "#%% md\n"
    }
   },
   "source": [
    "## Define the pipeline"
   ]
  },
  {
   "cell_type": "code",
   "execution_count": 2,
   "metadata": {
    "pycharm": {
     "name": "#%%\n"
    }
   },
   "outputs": [],
   "source": [
    "# import os\n",
    "import kfp\n",
    "from kfp import compiler, dsl, components\n",
    "from typing import NamedTuple\n",
    "from kubernetes.client.models import V1EnvVar, V1Volume, V1VolumeMount, V1SecurityContext\n",
    "import subprocess\n",
    "\n",
    "pipeline_name = 'Build YOLOv7 App'\n",
    "pipeline_description = 'A pipeline to build custom YOLOv7 Apps'\n",
    "\n",
    "\n",
    "# Retrieve short SHA and branch name from Git\n",
    "def get_git_info():\n",
    "    short_sha = subprocess.check_output(['git', 'rev-parse', '--short', 'HEAD']).decode('utf-8').strip()\n",
    "    branch_name = subprocess.check_output(['git', 'rev-parse', '--abbrev-ref', 'HEAD']).decode('utf-8').strip()\n",
    "    return short_sha, branch_name\n",
    "\n",
    "short_sha, branch_name = get_git_info()\n",
    "\n",
    "@dsl.pipeline(\n",
    "name = pipeline_name,\n",
    "description = pipeline_description)\n",
    "def build_yolov7_app(\n",
    "    image_name: str,\n",
    "    model_name: str,\n",
    "    img_size: int,\n",
    "    namespace: str,\n",
    "    domain: str,\n",
    "    version: str,\n",
    "    memory_usage: str,\n",
    "    minimum_required_cpu: str,\n",
    "    minimum_required_gpu: str,\n",
    "    minimum_required_ram: str,\n",
    "    model_type: str = 'yolov7',\n",
    "    framework: str = 'pytorch',\n",
    "    ):\n",
    "    \"\"\"A pipeline to build custom multi architecture YOLOv7 Apps\"\"\"\n",
    "    \n",
    "    get_metadata_args = get_metadata_args_op(\n",
    "        image_name=image_name,\n",
    "        model_name=model_name,\n",
    "        namespace=namespace,\n",
    "        domain=domain\n",
    "    )\n",
    "    get_metadata_args.execution_options.caching_strategy.max_cache_staleness = \"P0D\"\n",
    "\n",
    "    prepare_model_files = prepare_model_files_op(\n",
    "        model_name=model_name,\n",
    "        bucket_name=get_metadata_args.outputs[\"bucket_name\"]\n",
    "    ).after(get_metadata_args)\n",
    "    prepare_model_files.execution_options.caching_strategy.max_cache_staleness = \"P0D\"\n",
    "\n",
    "    prepare_docker_file = prepare_dockerfile_op(\n",
    "        model_name=model_name,\n",
    "        img_size=img_size\n",
    "    ).after(prepare_model_files)\n",
    "    prepare_docker_file.execution_options.caching_strategy.max_cache_staleness = \"P0D\"\n",
    "\n",
    "    # l4tr32.7.1\n",
    "    # l4tr32.7.2\n",
    "    # l4tr34.1.1\n",
    "    # amd64\n",
    "    # arm64\n",
    "    # nv-amd64\n",
    "    # nv-arm64\n",
    "    \n",
    "    \n",
    "    def kaniko_executor(base_image, base_image_tag, dockerfile_path: InputPath(str), weights_file: InputPath(str), names_file: InputPath(str), image_name, model_name, model_type, version, framework, memory_usage, minimum_required_cpu, minimum_required_gpu, minimum_required_ram):\n",
    "        return dsl.ContainerOp(\n",
    "            name=\"Build and push app image\",\n",
    "            image=\"gcr.io/kaniko-project/executor:v1.6.0\",\n",
    "            command=[\"/kaniko/executor\"],\n",
    "            arguments=[\n",
    "                \"--build-arg\", f\"BASE_IMAGE={base_image}\",\n",
    "                \"--build-arg\", f\"BASE_IMAGE_TAG={base_image_tag}\",\n",
    "                \"--dockerfile\", dockerfile_path,\n",
    "                \"--destination\", f'{image_name}:l4tr34.1.1-{model_name}',\n",
    "                \"--label\", f\"git-commit=${short_sha}\",\n",
    "                \"--label\", f\"teknoir.org/app-name=yolov7-app-${branch_name}-${short_sha}\",\n",
    "                \"--label\", f\"teknoir.org/app-type=model\",\n",
    "                \"--label\", f\"teknoir.org/gpu=nvidia_l4t\",\n",
    "                \"--label\", f\"teknoir.org/l4t-version={base_image_tag}\",\n",
    "                \"--label\", f\"teknoir.org/model-type-description={model_type}\",\n",
    "                \"--label\", f\"teknoir.org/model-name={model_name}\",\n",
    "                \"--label\", f\"teknoir.org/version={version}\",\n",
    "                \"--label\", f\"teknoir.org/framework={framework}\",\n",
    "                \"--label\", f\"teknoir.org/memory-usage={memory_usage}\",\n",
    "                \"--label\", f\"teknoir.org/dataset-name=coco\",\n",
    "                \"--label\", f\"teknoir.org/dataset-version=v1.0.0\",\n",
    "                \"--label\", f\"teknoir.org/minimum-required-cpu={minimum_required_cpu}\",\n",
    "                \"--label\", f\"teknoir.org/minimum-required-gpu={minimum_required_gpu}\",\n",
    "                \"--label\", f\"teknoir.org/minimum-required-ram={minimum_required_ram}\"\n",
    "            ],\n",
    "            artifact_argument_paths=[weights_file, names_file]\n",
    "        )\n",
    "    \n",
    "    kaniko_executor_l4tr32_7_1 = kaniko_executor(\n",
    "        \"us-central1-docker.pkg.dev/teknoir/teknoir-ai/yolov7-base\",\n",
    "        \"l4tr32.7.1\",\n",
    "        kfp.dsl.InputArgumentPath(argument=prepare_docker_file.outputs['dockerfile'], path='/workspace/Dockerfile'),\n",
    "        kfp.dsl.InputArgumentPath(argument=prepare_model_files.outputs['weightsfile'], path='/workspace/best_weights.pt'),\n",
    "        kfp.dsl.InputArgumentPath(argument=prepare_model_files.outputs['namesfile'], path='/workspace/object.names'),\n",
    "        get_metadata_args.outputs[\"image_name\"],\n",
    "        model_name,\n",
    "        model_type=model_type,\n",
    "        version=version,\n",
    "        framework=framework,\n",
    "        memory_usage=memory_usage,\n",
    "        minimum_required_cpu=minimum_required_cpu,\n",
    "        minimum_required_gpu=minimum_required_gpu,\n",
    "        minimum_required_ram=minimum_required_ram,\n",
    "    ).after(prepare_docker_file)\n",
    "        \n",
    "    kaniko_executor_l4tr34_1_1 = kaniko_executor(\n",
    "        \"us-central1-docker.pkg.dev/teknoir/teknoir-ai/yolov7-base\",\n",
    "        \"l4tr34.1.1\",\n",
    "        kfp.dsl.InputArgumentPath(argument=prepare_docker_file.outputs['dockerfile'], path='/workspace/Dockerfile'),\n",
    "        kfp.dsl.InputArgumentPath(argument=prepare_model_files.outputs['weightsfile'], path='/workspace/best_weights.pt'),\n",
    "        kfp.dsl.InputArgumentPath(argument=prepare_model_files.outputs['namesfile'], path='/workspace/object.names'),\n",
    "        get_metadata_args.outputs[\"image_name\"],\n",
    "        model_name,\n",
    "        model_type=model_type,\n",
    "        version=version,\n",
    "        framework=framework,\n",
    "        memory_usage=memory_usage,\n",
    "        minimum_required_cpu=minimum_required_cpu,\n",
    "        minimum_required_gpu=minimum_required_gpu,\n",
    "        minimum_required_ram=minimum_required_ram,\n",
    "    ).after(prepare_docker_file)\n",
    "\n",
    "        "
   ]
  },
  {
   "cell_type": "markdown",
   "metadata": {
    "pycharm": {
     "name": "#%% md\n"
    }
   },
   "source": [
    "## Compile & upload pipeline"
   ]
  },
  {
   "cell_type": "code",
   "execution_count": 3,
   "metadata": {
    "pycharm": {
     "name": "#%%\n"
    }
   },
   "outputs": [
    {
     "name": "stderr",
     "output_type": "stream",
     "text": [
      "/home/jovyan/.local/lib/python3.10/site-packages/kfp/dsl/_container_op.py:1261: FutureWarning: Please create reusable components instead of constructing ContainerOp instances directly. Reusable components are shareable, portable and have compatibility and support guarantees. Please see the documentation: https://www.kubeflow.org/docs/pipelines/sdk/component-development/#writing-your-component-definition-file The components can be created manually (or, in case of python, using kfp.components.create_component_from_func or func_to_container_op) and then loaded using kfp.components.load_component_from_file, load_component_from_uri or load_component_from_text: https://kubeflow-pipelines.readthedocs.io/en/stable/source/kfp.components.html#kfp.components.load_component_from_file\n",
      "  warnings.warn(\n",
      "ERROR:root:Failed to read a token from file '/var/run/secrets/kubeflow/pipelines/token' ([Errno 2] No such file or directory: '/var/run/secrets/kubeflow/pipelines/token').\n",
      "WARNING:root:Failed to set up default credentials. Proceeding without credentials...\n"
     ]
    }
   ],
   "source": [
    "import uuid\n",
    "import json\n",
    "\n",
    "pipeline_version_file = pipeline_file = 'build_yolov7_app.yaml'\n",
    "# 1h timeout\n",
    "pipeline_conf = kfp.dsl.PipelineConf().set_timeout(3600*1).set_image_pull_policy(policy=\"Always\")\n",
    "workflow = kfp.compiler.Compiler().compile(pipeline_func=build_yolov7_app, \n",
    "                                           package_path=pipeline_file,\n",
    "                                           pipeline_conf=pipeline_conf)\n",
    "client = kfp.Client(namespace='teknoir')\n",
    "filter = json.dumps({'predicates': [{'key': 'name', 'op': 1, 'string_value': pipeline_name}]})\n",
    "pipelines = client.pipelines.list_pipelines(filter=filter)\n",
    "\n",
    "if not pipelines.pipelines:\n",
    "    pipeline = client.pipeline_uploads.upload_pipeline(pipeline_file, name=pipeline_name, description=pipeline_description)\n",
    "else:\n",
    "    pipeline_version_name = pipeline_name + f' - {str(uuid.uuid4())[:6]}'\n",
    "    pipeline_version = client.pipeline_uploads.upload_pipeline_version(pipeline_version_file,\n",
    "                                                                       name=pipeline_version_name,\n",
    "                                                                       pipelineid=pipelines.pipelines[0].id)"
   ]
  },
  {
   "cell_type": "markdown",
   "metadata": {
    "pycharm": {
     "name": "#%% md\n"
    }
   },
   "source": [
    "## To run a pipeline\n",
    "Now you can find the new pipeline, or version, in the menu to the left, under Workflow -> Pipelines.\n",
    "\n",
    "### Run the pipeline from the Devstudio\n",
    "\n",
    "There is a node, under `pipelines`, that allows you to run the pipeline.\n",
    "In the node properties, the new pipeline is now listed in the pipeline dropdown.\n",
    "The arguments are listed when you select pipeline, and there is an option to input default values.\n",
    "\n",
    "### Pipeline arguments\n",
    "Arguments example:\n",
    "\n",
    "```\n",
    "arguments = {\n",
    "    'image_name': 'yolov7-ppe-hhsv',\n",
    "    'model_name': 'ppe-bbox-multiclass-20220907231701674',\n",
    "    'img_size': 416,\n",
    "    'namespace': os.getenv('NAMESPACE', 'teknoir-ai'),\n",
    "    'domain': os.getenv('DOMAIN', 'teknoir.cloud')\n",
    "}\n",
    "```"
   ]
  },
  {
   "cell_type": "code",
   "execution_count": null,
   "metadata": {
    "pycharm": {
     "name": "#%%\n"
    }
   },
   "outputs": [],
   "source": [
    "import os\n",
    "domain = os.getenv('DOMAIN', 'teknoir.cloud')\n",
    "namespace = os.getenv('NAMESPACE', 'teknoir-ai')\n",
    "\n",
    "arguments = {\n",
    "    'image_name': 'yolov7-ppe-hhsv',\n",
    "    'model_name': 'ppe-bbox-multiclass-20220907231701674',\n",
    "    'img_size': 416,\n",
    "    'namespace': namespace,\n",
    "    'domain': domain,\n",
    "}\n",
    "\n",
    "client = kfp.Client(namespace='teknoir')\n",
    "run_result = client.create_run_from_pipeline_func(build_yolov7_app, arguments=arguments)"
   ]
  },
  {
   "cell_type": "code",
   "execution_count": null,
   "metadata": {
    "pycharm": {
     "name": "#%%\n"
    }
   },
   "outputs": [],
   "source": []
  }
 ],
 "metadata": {
  "kernelspec": {
   "display_name": "Python 3 (ipykernel)",
   "language": "python",
   "name": "python3"
  },
  "language_info": {
   "codemirror_mode": {
    "name": "ipython",
    "version": 3
   },
   "file_extension": ".py",
   "mimetype": "text/x-python",
   "name": "python",
   "nbconvert_exporter": "python",
   "pygments_lexer": "ipython3",
   "version": "3.10.5"
  }
 },
 "nbformat": 4,
 "nbformat_minor": 4
}
