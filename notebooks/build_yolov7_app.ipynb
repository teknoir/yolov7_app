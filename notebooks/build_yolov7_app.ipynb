{
 "cells": [
  {
   "cell_type": "markdown",
   "metadata": {
    "pycharm": {
     "name": "#%% md\n"
    }
   },
   "source": [
    "# Build YOLOv7 App Pipeline\n",
    "A script that build a YOLOv7 app to run inference at the edge.\n",
    "\n",
    "To the left in the file browser pane, you can find the /cloudstorage folder. Under /cloudstorage/models we store different versions of the machine learning models in version-named folders.\n",
    "\n",
    "When a new version of the sustayn model is created, put it in `/cloudstorage/models/<version>/<all the files>` and update the `model_name` argument below in the Define the pipeline section.\n",
    "\n",
    "When that is done, run this notebook.\n",
    "    \n",
    "## Install prerequisites"
   ]
  },
  {
   "cell_type": "code",
   "execution_count": 45,
   "metadata": {
    "pycharm": {
     "name": "#%%\n"
    }
   },
   "outputs": [],
   "source": [
    "# Install the SDK\n",
    "!pip3 install kfp --upgrade --user --quiet"
   ]
  },
  {
   "cell_type": "markdown",
   "metadata": {
    "pycharm": {
     "name": "#%% md\n"
    }
   },
   "source": [
    "## Define components"
   ]
  },
  {
   "cell_type": "code",
   "execution_count": 59,
   "metadata": {
    "pycharm": {
     "name": "#%%\n"
    }
   },
   "outputs": [],
   "source": [
    "import kfp\n",
    "from kfp import compiler, dsl, components\n",
    "from kfp.components import load_component_from_text\n",
    "from typing import NamedTuple\n",
    "\n",
    "def get_metadata_args(\n",
    "    image_name: str,\n",
    "    model_name: str,\n",
    "    domain: str,\n",
    "    namespace: str) -> NamedTuple(\n",
    "  'PipelineArgs',\n",
    "  [\n",
    "    ('project', str),\n",
    "    ('namespace', str),\n",
    "    ('registry', str),\n",
    "    ('bucket_name', str),\n",
    "    ('image_name', str)\n",
    "  ]):\n",
    "    print(\"Preparing metadata for build {}\".format(model_name))\n",
    "    import urllib.request\n",
    "    from collections import namedtuple\n",
    "    \n",
    "    def getMetadataValue(url):\n",
    "        req = urllib.request.Request(url)\n",
    "        req.add_header(\"Metadata-Flavor\", \"Google\")\n",
    "        return urllib.request.urlopen(req).read().decode()\n",
    "    \n",
    "    url = \"http://metadata.google.internal/computeMetadata/v1/project/project-id\"\n",
    "    project_id = getMetadataValue(url)\n",
    "    print(\"Project ID {}\".format(project_id))\n",
    "\n",
    "    output = namedtuple('PipelineArgs', ['project', 'namespace', 'registry', 'bucket_name', 'image_name'])\n",
    "    return output(\n",
    "        project_id, \n",
    "        namespace, \n",
    "        f'us-central1-docker.pkg.dev/{project_id}/{namespace}', \n",
    "        f'{namespace}.{domain}',\n",
    "        f'us-central1-docker.pkg.dev/{project_id}/{namespace}/{image_name}'\n",
    "    )\n",
    "\n",
    "get_metadata_args_op = components.create_component_from_func(\n",
    "    get_metadata_args,\n",
    "    output_component_file='yolov7_get_metadata_args.yaml')\n",
    "\n",
    "    \n",
    "def prepare_model_files(\n",
    "    model_name: str,\n",
    "    bucket_name: str) -> NamedTuple(\n",
    "  'ModelFiles',\n",
    "  [\n",
    "    ('weights_file', str),\n",
    "    ('names_file', str)\n",
    "  ]):\n",
    "    '''Prepares Model files'''\n",
    "    print(\"Preparing model files for {}\".format(model_name))\n",
    "    \n",
    "    import os\n",
    "    from google.cloud import storage\n",
    "    from collections import namedtuple\n",
    "\n",
    "    weights_file = 'best_weights.pt'\n",
    "    names_file = 'object.names'\n",
    "\n",
    "    storage_client = storage.Client()\n",
    "    bucket = storage_client.get_bucket(bucket_name)\n",
    "    \n",
    "    def download_blob(source_blob_name, destination_file_name):\n",
    "        \"\"\"Downloads a blob from the bucket.\"\"\"\n",
    "        mount_folder = '/workspace'\n",
    "        destination_file_name = os.path.join(mount_folder, destination_file_name)\n",
    "        print(\"Downloading object {} to {}.\".format(source_blob_name, destination_file_name))\n",
    "        blob = bucket.blob(source_blob_name)\n",
    "        blob.download_to_filename(destination_file_name)\n",
    "\n",
    "    weights_blob = f'models/{model_name}/{weights_file}'\n",
    "    download_blob(weights_blob, weights_file)\n",
    "    \n",
    "    names_blob =f'models/{model_name}/{names_file}'\n",
    "    download_blob(names_blob, names_file)\n",
    "    \n",
    "    output = namedtuple('ModelFiles', ['weights_file', 'names_file'])\n",
    "    return output(weights_file, names_file)\n",
    "\n",
    "prepare_model_files_op = components.create_component_from_func(\n",
    "    prepare_model_files,\n",
    "    packages_to_install=['google-cloud-storage'],\n",
    "    output_component_file='yolov7_prepare_model_files.yaml')\n",
    "\n",
    "\n",
    "def prepare_dockerfile(\n",
    "    base_image: str,\n",
    "    model_name: str,\n",
    "    weights_file: str,\n",
    "    img_size: int,\n",
    "    names_file: str) -> NamedTuple(\n",
    "  'DockerFiles',\n",
    "  [\n",
    "    ('dockerfile', str)\n",
    "  ]):\n",
    "    '''Prepares Dockerfiles and Manifests'''\n",
    "    print(\"Preparing docker file for {}\".format(model_name))\n",
    "    \n",
    "    import os\n",
    "    from collections import namedtuple\n",
    "    import requests\n",
    "    \n",
    "    def wget(url, file):\n",
    "        r = requests.get(url, allow_redirects=True)\n",
    "        print(f'Downloading {url} to {file}')\n",
    "        open(file, 'wb').write(r.content)\n",
    "    \n",
    "    def write_file(file_path, content):\n",
    "        mount_folder = \"/workspace\"\n",
    "        with open(os.path.join(mount_folder, file_path), 'w') as f:\n",
    "            print(content)\n",
    "            f.write(content)\n",
    "    \n",
    "    arm64v8 = 'arm64v8.Dockerfile'\n",
    "\n",
    "    arm64v8_template = f\"\"\"\n",
    "FROM {base_image} as base\n",
    "\n",
    "ENV MODEL_NAME={model_name}\n",
    "ENV IMG_SIZE={img_size}\n",
    "ENV WEIGHTS_FILE={weights_file}\n",
    "ENV WEIGHTS=/usr/src/app/{weights_file}\n",
    "ADD {weights_file} /usr/src/app/{weights_file}\n",
    "ENV CLASS_NAMES=/usr/src/app/{names_file}\n",
    "ADD {names_file} /usr/src/app/{names_file}\n",
    "\"\"\"\n",
    "    write_file(arm64v8, arm64v8_template)\n",
    "    \n",
    "    output = namedtuple('DockerFiles', ['dockerfile'])\n",
    "    return output(arm64v8)\n",
    "\n",
    "\n",
    "prepare_dockerfile_op = components.create_component_from_func(\n",
    "    prepare_dockerfile,\n",
    "    packages_to_install=['chevron', 'requests'],\n",
    "    output_component_file='ppe_prepare_dockerfile.yaml')\n"
   ]
  },
  {
   "cell_type": "markdown",
   "metadata": {
    "pycharm": {
     "name": "#%% md\n"
    }
   },
   "source": [
    "## Define the pipeline"
   ]
  },
  {
   "cell_type": "code",
   "execution_count": 60,
   "metadata": {
    "pycharm": {
     "name": "#%%\n"
    }
   },
   "outputs": [],
   "source": [
    "# import os\n",
    "import kfp\n",
    "from kfp import compiler, dsl, components\n",
    "from typing import NamedTuple\n",
    "from kubernetes.client.models import V1EnvVar, V1Volume, V1VolumeMount, V1SecurityContext\n",
    "\n",
    "pipeline_name = 'Build YOLOv7 App'\n",
    "pipeline_description = 'A pipeline to build custom YOLOv7 Apps'\n",
    "\n",
    "@dsl.pipeline(\n",
    "name = pipeline_name,\n",
    "description = pipeline_description)\n",
    "def build_yolov7_app(\n",
    "    image_name,\n",
    "    model_name,\n",
    "    img_size,\n",
    "    namespace,\n",
    "    domain):\n",
    "    \n",
    "    \"\"\"A pipeline to build custom multi architecture YOLOv7 Apps\"\"\"\n",
    "\n",
    "    mount_folder = f\"/workspace\"\n",
    "    \n",
    "    # A working directory between steps\n",
    "    wkdirop = dsl.VolumeOp(\n",
    "        name=f'Create build workspace',\n",
    "        resource_name=model_name,\n",
    "        size=\"500Mi\",\n",
    "        modes=dsl.VOLUME_MODE_RWO\n",
    "    ).set_caching_options(False)\n",
    "    \n",
    "    get_metadata_args = get_metadata_args_op(\n",
    "        image_name=image_name,\n",
    "        model_name=model_name,\n",
    "        namespace=namespace,\n",
    "        domain=domain\n",
    "    ).after(wkdirop)\n",
    "\n",
    "    prepare_model_files = prepare_model_files_op(\n",
    "        model_name=model_name,\n",
    "        bucket_name=get_metadata_args.outputs[\"bucket_name\"]\n",
    "    ).add_pvolumes({mount_folder: wkdirop.volume}).after(get_metadata_args)\n",
    "\n",
    "    prepare_docker_file = prepare_dockerfile_op(\n",
    "        base_image='gcr.io/teknoir/yolov7:l4tr32.7.1',        \n",
    "        model_name=model_name,\n",
    "        weights_file=prepare_model_files.outputs[\"weights_file\"],\n",
    "        img_size=img_size,\n",
    "        names_file=prepare_model_files.outputs[\"names_file\"]\n",
    "    ).add_pvolumes({mount_folder: wkdirop.volume}).after(prepare_model_files)\n",
    "    \n",
    "    build_app = dsl.ContainerOp(\n",
    "        name=\"Build and push app image\",\n",
    "        image=\"gcr.io/kaniko-project/executor:v1.6.0\",\n",
    "        command=[\"/kaniko/executor\"],\n",
    "        arguments=[\n",
    "            \"--context\", \"dir:///workspace/\",\n",
    "            \"--dockerfile\", prepare_docker_file.outputs['dockerfile'], \n",
    "            \"--destination\", f'{get_metadata_args.outputs[\"image_name\"]}:latest',\n",
    "            \"--label\", \"app_name=yolov7\",\n",
    "            \"--label\", \"model_type=object_detection\"\n",
    "        ],\n",
    "        pvolumes={mount_folder: wkdirop.volume}\n",
    "    ).after(prepare_docker_file)"
   ]
  },
  {
   "cell_type": "markdown",
   "metadata": {
    "pycharm": {
     "name": "#%% md\n"
    }
   },
   "source": [
    "## Compile pipeline"
   ]
  },
  {
   "cell_type": "code",
   "execution_count": 61,
   "metadata": {
    "pycharm": {
     "name": "#%%\n"
    }
   },
   "outputs": [],
   "source": [
    "workflow = kfp.compiler.Compiler().compile(pipeline_func=build_yolov7_app, \n",
    "                                           package_path='yolov7_build_ds_app.yaml')"
   ]
  },
  {
   "cell_type": "markdown",
   "metadata": {
    "pycharm": {
     "name": "#%% md\n"
    }
   },
   "source": [
    "## Upload pipeline or new version of pipeline"
   ]
  },
  {
   "cell_type": "code",
   "execution_count": 62,
   "metadata": {
    "pycharm": {
     "name": "#%%\n"
    }
   },
   "outputs": [
    {
     "name": "stderr",
     "output_type": "stream",
     "text": [
      "ERROR:root:Failed to read a token from file '/var/run/secrets/kubeflow/pipelines/token' ([Errno 2] No such file or directory: '/var/run/secrets/kubeflow/pipelines/token').\n",
      "WARNING:root:Failed to set up default credentials. Proceeding without credentials...\n"
     ]
    }
   ],
   "source": [
    "import uuid\n",
    "import json\n",
    "\n",
    "pipeline_version_file = pipeline_file = 'yolov7_build_ds_app.yaml'\n",
    "\n",
    "client = kfp.Client(namespace='teknoir')\n",
    "filter = json.dumps({'predicates': [{'key': 'name', 'op': 1, 'string_value': pipeline_name}]})\n",
    "pipelines = client.pipelines.list_pipelines(filter=filter)\n",
    "\n",
    "if not pipelines.pipelines:\n",
    "    pipeline = client.pipeline_uploads.upload_pipeline(pipeline_file, name=pipeline_name, description=pipeline_description)\n",
    "else:\n",
    "    pipeline_version_name = pipeline_name + f' - {str(uuid.uuid4())[:6]}'\n",
    "    pipeline_version = client.pipeline_uploads.upload_pipeline_version(pipeline_version_file,\n",
    "                                                                       name=pipeline_version_name,\n",
    "                                                                       pipelineid=pipelines.pipelines[0].id)"
   ]
  },
  {
   "cell_type": "markdown",
   "metadata": {
    "pycharm": {
     "name": "#%% md\n"
    }
   },
   "source": [
    "## To run a pipeline\n",
    "Now you can find the new pipeline, or version, in the menu to the left, under Workflow -> Pipelines.\n",
    "\n",
    "### Run the pipeline from the Devstudio\n",
    "\n",
    "There is a node, under `pipelines`, that allows you to run the pipeline.\n",
    "In the node properties, the new pipeline is now listed in the pipeline dropdown.\n",
    "The arguments are listed when you select pipeline, and there is an option to input default values.\n",
    "\n",
    "### Pipeline arguments\n",
    "Arguments example:\n",
    "\n",
    "```\n",
    "arguments = {\n",
    "    'image_name': 'yolov7-ppe-hhsv',\n",
    "    'model_name': 'ppe-bbox-multiclass-20220907231701674',\n",
    "    'img_size': 416,\n",
    "    'namespace': os.getenv('NAMESPACE', 'teknoir-ai'),\n",
    "    'domain': os.getenv('DOMAIN', 'teknoir.cloud')\n",
    "}\n",
    "```"
   ]
  },
  {
   "cell_type": "code",
   "execution_count": 51,
   "metadata": {
    "pycharm": {
     "name": "#%%\n"
    }
   },
   "outputs": [],
   "source": [
    "# domain = os.getenv('DOMAIN', 'teknoir.cloud')\n",
    "# namespace = os.getenv('NAMESPACE', 'teknoir-ai')\n",
    "\n",
    "# arguments = {\n",
    "#     'image_name': 'yolov7-ppe-hhsv',\n",
    "#     'model_name': 'ppe-bbox-multiclass-20220907231701674',\n",
    "#     'img_size': 416,\n",
    "#     'namespace': namespace,\n",
    "#     'domain': domain\n",
    "# }\n",
    "\n",
    "# client = kfp.Client(namespace='teknoir')\n",
    "# run_result = client.create_run_from_pipeline_func(build_yolov7_app, arguments=arguments)"
   ]
  },
  {
   "cell_type": "code",
   "execution_count": null,
   "metadata": {
    "pycharm": {
     "name": "#%%\n"
    }
   },
   "outputs": [],
   "source": []
  }
 ],
 "metadata": {
  "kernelspec": {
   "display_name": "Python 3 (ipykernel)",
   "language": "python",
   "name": "python3"
  },
  "language_info": {
   "codemirror_mode": {
    "name": "ipython",
    "version": 3
   },
   "file_extension": ".py",
   "mimetype": "text/x-python",
   "name": "python",
   "nbconvert_exporter": "python",
   "pygments_lexer": "ipython3",
   "version": "3.10.5"
  }
 },
 "nbformat": 4,
 "nbformat_minor": 4
}